{
 "cells": [
  {
   "cell_type": "code",
   "execution_count": 1,
   "id": "bcca3c24",
   "metadata": {},
   "outputs": [],
   "source": [
    "from ANPR import ANPR\n",
    "from imutils import paths\n",
    "import argparse\n",
    "import imutils\n",
    "import cv2\n",
    "import pytesseract\n",
    "pytesseract.pytesseract.tesseract_cmd = r'C:/Program Files/Tesseract-OCR/tesseract.exe'"
   ]
  },
  {
   "cell_type": "code",
   "execution_count": 11,
   "id": "1005420a",
   "metadata": {},
   "outputs": [
    {
     "name": "stdout",
     "output_type": "stream",
     "text": [
      "['LicensePlates/car1.jpeg', 'LicensePlates/car2.jpg', 'LicensePlates/car3.jpg', 'LicensePlates/car4.jpg', 'LicensePlates/car5.jpg']\n"
     ]
    }
   ],
   "source": [
    "def cleanup_text(text):\n",
    "\treturn \"\".join([c if ord(c) < 128 else \"\" for c in text]).strip()\n",
    "\n",
    "# ap = argparse.ArgumentParser()\n",
    "# ap.add_argument(\"-i\", \"--input\", required=True,help=\"path to input directory of images\")\n",
    "# ap.add_argument(\"-c\", \"--clear-border\", type=int, default=-1,help=\"whether or to clear border pixels before OCR'ing\")\n",
    "# ap.add_argument(\"-p\", \"--psm\", type=int, default=7,help=\"default PSM mode for OCR'ing license plates\")\n",
    "# ap.add_argument(\"-d\", \"--debug\", type=int, default=-1,help=\"whether or not to show additional visualizations\")\n",
    "# args = vars(ap.parse_args())\n",
    "\n",
    "input_path = 'LicensePlates/'\n",
    "anpr = ANPR()\n",
    "imagePaths = sorted(list(paths.list_images(input_path)))\n",
    "\n",
    "print(imagePaths)"
   ]
  },
  {
   "cell_type": "code",
   "execution_count": 12,
   "id": "9e116624",
   "metadata": {},
   "outputs": [
    {
     "data": {
      "text/plain": [
       "['LicensePlates/car1.jpeg',\n",
       " 'LicensePlates/car2.jpg',\n",
       " 'LicensePlates/car3.jpg',\n",
       " 'LicensePlates/car4.jpg',\n",
       " 'LicensePlates/car5.jpg']"
      ]
     },
     "execution_count": 12,
     "metadata": {},
     "output_type": "execute_result"
    }
   ],
   "source": [
    "sorted(list(paths.list_images(input_path)))"
   ]
  },
  {
   "cell_type": "code",
   "execution_count": 21,
   "id": "155dd1c0",
   "metadata": {},
   "outputs": [
    {
     "name": "stdout",
     "output_type": "stream",
     "text": [
      "ADOSOEA\n",
      "\n",
      "[INFO] ADOSOEA\n",
      "\n",
      "MH20EE7601\n",
      "\n",
      "[INFO] MH20EE7601\n",
      "\n",
      "KL55R2673\n",
      "\n",
      "[INFO] KL55R2673\n",
      "\n",
      "D3036\n",
      "\n",
      "[INFO] D3036\n",
      "\n",
      "3SX0925\n",
      "\n",
      "[INFO] 3SX0925\n",
      "\n"
     ]
    }
   ],
   "source": [
    "for imagePath in imagePaths:\n",
    "    image = cv2.imread(imagePath)\n",
    "    image = imutils.resize(image, width=600)\n",
    "    (lpText, lpCnt) = anpr.find_and_ocr(image, psm=7,clearBorder=1)\n",
    "    print(lpText)\n",
    "    if lpText is not None and lpCnt is not None:\n",
    "        box = cv2.boxPoints(cv2.minAreaRect(lpCnt))\n",
    "        box = box.astype(\"int\")\n",
    "        cv2.drawContours(image, [box], -1, (0, 255, 0), 2)\n",
    "        (x, y, w, h) = cv2.boundingRect(lpCnt)\n",
    "        cv2.putText(image, cleanup_text(lpText), (x, y - 15),cv2.FONT_HERSHEY_SIMPLEX, 0.75, (0, 255, 0), 2)\n",
    "        print(\"[INFO] {}\".format(lpText))\n",
    "        cv2.imshow(\"Output ANPR\", image)\n",
    "        cv2.waitKey(0)"
   ]
  },
  {
   "cell_type": "code",
   "execution_count": null,
   "id": "41071b0a",
   "metadata": {},
   "outputs": [],
   "source": []
  },
  {
   "cell_type": "code",
   "execution_count": null,
   "id": "81cc9161",
   "metadata": {},
   "outputs": [],
   "source": []
  },
  {
   "cell_type": "code",
   "execution_count": null,
   "id": "6872bf43",
   "metadata": {},
   "outputs": [],
   "source": []
  },
  {
   "cell_type": "code",
   "execution_count": null,
   "id": "b7166987",
   "metadata": {},
   "outputs": [],
   "source": []
  },
  {
   "cell_type": "code",
   "execution_count": null,
   "id": "4dcc7c83",
   "metadata": {},
   "outputs": [],
   "source": []
  },
  {
   "cell_type": "code",
   "execution_count": null,
   "id": "16998184",
   "metadata": {},
   "outputs": [],
   "source": []
  },
  {
   "cell_type": "code",
   "execution_count": null,
   "id": "4ee3652d",
   "metadata": {},
   "outputs": [],
   "source": []
  }
 ],
 "metadata": {
  "kernelspec": {
   "display_name": "Python 3 (ipykernel)",
   "language": "python",
   "name": "python3"
  },
  "language_info": {
   "codemirror_mode": {
    "name": "ipython",
    "version": 3
   },
   "file_extension": ".py",
   "mimetype": "text/x-python",
   "name": "python",
   "nbconvert_exporter": "python",
   "pygments_lexer": "ipython3",
   "version": "3.9.13"
  }
 },
 "nbformat": 4,
 "nbformat_minor": 5
}
